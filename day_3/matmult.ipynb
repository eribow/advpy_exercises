{
 "cells": [
  {
   "cell_type": "code",
   "execution_count": 28,
   "metadata": {},
   "outputs": [
    {
     "name": "stdout",
     "output_type": "stream",
     "text": [
      "[76, 94, 32, 60, 31, 22, 81, 82, 24, 96, 35, 22, 74, 70, 56, 7, 34, 81, 18, 94, 13, 70, 78, 64, 56, 99, 69, 44, 89, 55]\n"
     ]
    }
   ],
   "source": [
    "import numpy as np\n",
    "import random\n",
    "\n",
    "N = 30\n",
    "\n",
    "#r = np.random.rand(30)\n",
    "#print(r)\n",
    "\n",
    "random_matrix = np.random.randint(0,100,(N,N))\n",
    "a = [random.randint(0,100) for r in range(N)]\n",
    "\n",
    "X = []\n",
    "for i in range(N):\n",
    "    X.append([random.randint(0,100) for r in range(N)])\n",
    "    \n",
    "#print(X)"
   ]
  },
  {
   "cell_type": "code",
   "execution_count": 38,
   "metadata": {},
   "outputs": [
    {
     "name": "stdout",
     "output_type": "stream",
     "text": [
      "-10.366172783076763\n",
      "-0.06240706890821457\n",
      " --> numpy is 166.10574674357565 times faster than using the for loop\n"
     ]
    }
   ],
   "source": [
    "#!/usr/bin/python\n",
    "# Program to multiply two matrices using nested loops\n",
    "import random\n",
    "import time\n",
    "\n",
    "N = 250\n",
    "\n",
    "# NxN matrix created with numpy instead\n",
    "#X = random_matrix = np.random.randint(0,100,(N,N))\n",
    "X = []\n",
    "for i in range(N):\n",
    "    X.append([random.randint(0,100) for r in range(N)])\n",
    "\n",
    "# Nx(N+1) matrix created with numpy instead\n",
    "#Y = random_matrix = np.random.randint(0,100,(N,N+1))\n",
    "Y = []\n",
    "for i in range(N):\n",
    "    Y.append([random.randint(0,100) for r in range(N+1)])\n",
    "\n",
    "################################################################\n",
    "#result is Nx(N+1), created as matrix of zeros\n",
    "result = []\n",
    "for i in range(N):\n",
    "    result.append([0] * (N+1))\n",
    "    \n",
    "len_X=len(X)\n",
    "len_Y=len(Y)\n",
    "len_Y_0=len(Y[0])\n",
    "\n",
    "t_slow = time.perf_counter() #to time the slow script\n",
    "# iterate through rows of X\n",
    "for i in range(len_X):\n",
    "    # iterate through columns of Y\n",
    "    for j in range(len_Y_0):\n",
    "        # iterate through rows of Y\n",
    "        for k in range(len_Y):\n",
    "            result[i][j] += X[i][k] * Y[k][j]\n",
    "            \n",
    "#for r in result:\n",
    "#    print(r)\n",
    "t_slow -= time.perf_counter() #to time the slow script\n",
    "\n",
    "print(t_slow)\n",
    "\n",
    "################################################################\n",
    "t_fast = time.perf_counter() #to time the fast script\n",
    "    \n",
    "result = np.matmul(X,Y)\n",
    "\n",
    "t_fast -= time.perf_counter() #to time the fast script\n",
    "\n",
    "print(t_fast)\n",
    "################################################################\n",
    "\n",
    "print(\" --> numpy is \" + str(t_slow/t_fast) + \" times faster than using the for loop\")"
   ]
  }
 ],
 "metadata": {
  "kernelspec": {
   "display_name": "Python 3",
   "language": "python",
   "name": "python3"
  },
  "language_info": {
   "codemirror_mode": {
    "name": "ipython",
    "version": 3
   },
   "file_extension": ".py",
   "mimetype": "text/x-python",
   "name": "python",
   "nbconvert_exporter": "python",
   "pygments_lexer": "ipython3",
   "version": "3.5.2"
  }
 },
 "nbformat": 4,
 "nbformat_minor": 4
}
